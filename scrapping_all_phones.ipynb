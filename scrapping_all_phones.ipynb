{
 "cells": [
  {
   "cell_type": "code",
   "execution_count": 1,
   "metadata": {},
   "outputs": [],
   "source": [
    "import requests\n",
    "from bs4 import BeautifulSoup\n",
    "import pandas\n",
    "import urllib\n",
    "from urllib import request\n",
    "import pandas as pd\n",
    "import time"
   ]
  },
  {
   "cell_type": "markdown",
   "metadata": {},
   "source": [
    "# 1- scrapper les références des marques "
   ]
  },
  {
   "cell_type": "code",
   "execution_count": 2,
   "metadata": {},
   "outputs": [],
   "source": [
    "url=\"https://www.gsmarena.com/apple-phones-48.php\"\n",
    "headers = {\n",
    "    'User-Agent': 'Mozilla'\n",
    "}\n",
    "request_text = requests.get(url,headers=headers)"
   ]
  },
  {
   "cell_type": "code",
   "execution_count": 3,
   "metadata": {},
   "outputs": [
    {
     "data": {
      "text/plain": [
       "200"
      ]
     },
     "execution_count": 3,
     "metadata": {},
     "output_type": "execute_result"
    }
   ],
   "source": [
    "request_text.status_code"
   ]
  },
  {
   "cell_type": "code",
   "execution_count": 5,
   "metadata": {},
   "outputs": [],
   "source": [
    "page = BeautifulSoup(request_text.content, \"lxml\")"
   ]
  },
  {
   "cell_type": "code",
   "execution_count": 6,
   "metadata": {},
   "outputs": [],
   "source": [
    "marques=page.find(\"div\",class_=\"brandmenu-v2 light l-box clearfix\")"
   ]
  },
  {
   "cell_type": "code",
   "execution_count": 8,
   "metadata": {},
   "outputs": [],
   "source": [
    "refs=marques.find_all('li')"
   ]
  },
  {
   "cell_type": "code",
   "execution_count": 9,
   "metadata": {},
   "outputs": [
    {
     "data": {
      "text/plain": [
       "[<li><a href=\"samsung-phones-9.php\">Samsung</a></li>,\n",
       " <li><a href=\"apple-phones-48.php\">Apple</a></li>,\n",
       " <li><a href=\"huawei-phones-58.php\">Huawei</a></li>,\n",
       " <li><a href=\"nokia-phones-1.php\">Nokia</a></li>,\n",
       " <li><a href=\"sony-phones-7.php\">Sony</a></li>,\n",
       " <li><a href=\"lg-phones-20.php\">LG</a></li>,\n",
       " <li><a href=\"htc-phones-45.php\">HTC</a></li>,\n",
       " <li><a href=\"motorola-phones-4.php\">Motorola</a></li>,\n",
       " <li><a href=\"lenovo-phones-73.php\">Lenovo</a></li>,\n",
       " <li><a href=\"xiaomi-phones-80.php\">Xiaomi</a></li>,\n",
       " <li><a href=\"google-phones-107.php\">Google</a></li>,\n",
       " <li><a href=\"honor-phones-121.php\">Honor</a></li>,\n",
       " <li><a href=\"oppo-phones-82.php\">Oppo</a></li>,\n",
       " <li><a href=\"realme-phones-118.php\">Realme</a></li>,\n",
       " <li><a href=\"oneplus-phones-95.php\">OnePlus</a></li>,\n",
       " <li><a href=\"vivo-phones-98.php\">vivo</a></li>,\n",
       " <li><a href=\"meizu-phones-74.php\">Meizu</a></li>,\n",
       " <li><a href=\"blackberry-phones-36.php\">BlackBerry</a></li>,\n",
       " <li><a href=\"asus-phones-46.php\">Asus</a></li>,\n",
       " <li><a href=\"alcatel-phones-5.php\">Alcatel</a></li>,\n",
       " <li><a href=\"zte-phones-62.php\">ZTE</a></li>,\n",
       " <li><a href=\"microsoft-phones-64.php\">Microsoft</a></li>,\n",
       " <li><a href=\"vodafone-phones-53.php\">Vodafone</a></li>,\n",
       " <li><a href=\"energizer-phones-106.php\">Energizer</a></li>,\n",
       " <li><a href=\"cat-phones-89.php\">Cat</a></li>,\n",
       " <li><a href=\"sharp-phones-23.php\">Sharp</a></li>,\n",
       " <li><a href=\"micromax-phones-66.php\">Micromax</a></li>,\n",
       " <li><a href=\"infinix-phones-119.php\">Infinix</a></li>,\n",
       " <li><a href=\"ulefone_-phones-124.php\">Ulefone</a></li>,\n",
       " <li><a href=\"tecno-phones-120.php\">Tecno</a></li>,\n",
       " <li><a href=\"doogee-phones-129.php\">Doogee</a></li>,\n",
       " <li><a href=\"blackview-phones-116.php\">Blackview</a></li>,\n",
       " <li><a href=\"cubot-phones-130.php\">Cubot</a></li>,\n",
       " <li><a href=\"oukitel-phones-132.php\">Oukitel</a></li>,\n",
       " <li><a href=\"itel-phones-131.php\">Itel</a></li>,\n",
       " <li><a href=\"tcl-phones-123.php\">TCL</a></li>]"
      ]
     },
     "execution_count": 9,
     "metadata": {},
     "output_type": "execute_result"
    }
   ],
   "source": [
    "refs"
   ]
  },
  {
   "cell_type": "code",
   "execution_count": 14,
   "metadata": {},
   "outputs": [],
   "source": [
    "all_brands=[]\n",
    "all_refs=[]\n",
    "\n",
    "for ref in refs:\n",
    "    all_brands.append(ref.text)\n",
    "    all_refs.append(ref.find('a').get('href'))\n",
    "    "
   ]
  },
  {
   "cell_type": "code",
   "execution_count": 15,
   "metadata": {},
   "outputs": [
    {
     "data": {
      "text/plain": [
       "['samsung-phones-9.php',\n",
       " 'apple-phones-48.php',\n",
       " 'huawei-phones-58.php',\n",
       " 'nokia-phones-1.php',\n",
       " 'sony-phones-7.php',\n",
       " 'lg-phones-20.php',\n",
       " 'htc-phones-45.php',\n",
       " 'motorola-phones-4.php',\n",
       " 'lenovo-phones-73.php',\n",
       " 'xiaomi-phones-80.php',\n",
       " 'google-phones-107.php',\n",
       " 'honor-phones-121.php',\n",
       " 'oppo-phones-82.php',\n",
       " 'realme-phones-118.php',\n",
       " 'oneplus-phones-95.php',\n",
       " 'vivo-phones-98.php',\n",
       " 'meizu-phones-74.php',\n",
       " 'blackberry-phones-36.php',\n",
       " 'asus-phones-46.php',\n",
       " 'alcatel-phones-5.php',\n",
       " 'zte-phones-62.php',\n",
       " 'microsoft-phones-64.php',\n",
       " 'vodafone-phones-53.php',\n",
       " 'energizer-phones-106.php',\n",
       " 'cat-phones-89.php',\n",
       " 'sharp-phones-23.php',\n",
       " 'micromax-phones-66.php',\n",
       " 'infinix-phones-119.php',\n",
       " 'ulefone_-phones-124.php',\n",
       " 'tecno-phones-120.php',\n",
       " 'doogee-phones-129.php',\n",
       " 'blackview-phones-116.php',\n",
       " 'cubot-phones-130.php',\n",
       " 'oukitel-phones-132.php',\n",
       " 'itel-phones-131.php',\n",
       " 'tcl-phones-123.php']"
      ]
     },
     "execution_count": 15,
     "metadata": {},
     "output_type": "execute_result"
    }
   ],
   "source": [
    "all_refs\n"
   ]
  },
  {
   "cell_type": "code",
   "execution_count": 16,
   "metadata": {},
   "outputs": [
    {
     "data": {
      "text/plain": [
       "36"
      ]
     },
     "execution_count": 16,
     "metadata": {},
     "output_type": "execute_result"
    }
   ],
   "source": [
    "len(all_refs)"
   ]
  },
  {
   "cell_type": "markdown",
   "metadata": {},
   "source": [
    "on a donc 36 marque de téléphone"
   ]
  },
  {
   "cell_type": "markdown",
   "metadata": {},
   "source": [
    "je vais essayer de définir une fonction qui prend en entrée une marque et permet de retourner les caractéristiques de chaque téléphone de cette marque  "
   ]
  },
  {
   "cell_type": "markdown",
   "metadata": {},
   "source": [
    "pour cette raison j'ai besoin de définir ne fonction qui permet à partir d'une marque de retourner la liste des références de téléphones de cette marque "
   ]
  },
  {
   "cell_type": "code",
   "execution_count": 17,
   "metadata": {},
   "outputs": [],
   "source": [
    "url_principale=\"https://www.gsmarena.com/\"\n",
    "def get_ref_phones_from_brand(brand_ref):\n",
    "    url=url_principale+brand_ref\n",
    "    \n",
    "    headers = {\n",
    "        'User-Agent': 'Mozilla'\n",
    "    }\n",
    "    request_text = requests.get(url,headers=headers)\n",
    "    page = BeautifulSoup(request_text.content, \"lxml\")\n",
    "    section=page.find_all('ul')\n",
    "    phones=section[2].find_all('li')\n",
    "    phones_ref=[]\n",
    "    for phone in phones:\n",
    "        telephone=phone.find('a')\n",
    "        phones_ref.append(telephone.get('href'))\n",
    "    return phones_ref\n",
    "        \n"
   ]
  },
  {
   "cell_type": "markdown",
   "metadata": {},
   "source": [
    "tester cette fonction "
   ]
  },
  {
   "cell_type": "code",
   "execution_count": 18,
   "metadata": {},
   "outputs": [
    {
     "data": {
      "text/plain": [
       "['apple_iphone_15_pro_max-12548.php',\n",
       " 'apple_iphone_15_pro-12557.php',\n",
       " 'apple_iphone_15_plus-12558.php',\n",
       " 'apple_iphone_15-12559.php',\n",
       " 'apple_watch_ultra_2-12560.php',\n",
       " 'apple_watch_series_9-12561.php',\n",
       " 'apple_watch_series_9_aluminum-12562.php',\n",
       " 'apple_ipad_pro_12_9_(2022)-11939.php',\n",
       " 'apple_ipad_pro_11_(2022)-11940.php',\n",
       " 'apple_ipad_(2022)-11941.php',\n",
       " 'apple_iphone_14_pro_max-11773.php',\n",
       " 'apple_iphone_14_pro-11860.php',\n",
       " 'apple_iphone_14_plus-11862.php',\n",
       " 'apple_iphone_14-11861.php',\n",
       " 'apple_watch_ultra-11827.php',\n",
       " 'apple_watch_series_8-11866.php',\n",
       " 'apple_watch_series_8_aluminum-11864.php',\n",
       " 'apple_watch_se_(2022)-11865.php',\n",
       " 'apple_iphone_se_(2022)-11410.php',\n",
       " 'apple_ipad_air_(2022)-11411.php',\n",
       " 'apple_iphone_13_pro_max-11089.php',\n",
       " 'apple_iphone_13_pro-11102.php',\n",
       " 'apple_iphone_13-11103.php',\n",
       " 'apple_iphone_13_mini-11104.php',\n",
       " 'apple_ipad_mini_(2021)-11105.php',\n",
       " 'apple_ipad_10_2_(2021)-11106.php',\n",
       " 'apple_watch_edition_series_7-11147.php',\n",
       " 'apple_watch_series_7-11146.php',\n",
       " 'apple_watch_series_7_aluminum-11107.php',\n",
       " 'apple_ipad_pro_12_9_(2021)-10864.php',\n",
       " 'apple_ipad_pro_11_(2021)-10865.php',\n",
       " 'apple_iphone_12_pro_max-10237.php',\n",
       " 'apple_iphone_12_pro-10508.php',\n",
       " 'apple_iphone_12-10509.php',\n",
       " 'apple_iphone_12_mini-10510.php',\n",
       " 'apple_ipad_air_(2020)-10444.php',\n",
       " 'apple_ipad_10_2_(2020)-10445.php',\n",
       " 'apple_watch_se-10446.php',\n",
       " 'apple_watch_series_6_aluminum-10447.php',\n",
       " 'apple_watch_series_6-10448.php']"
      ]
     },
     "execution_count": 18,
     "metadata": {},
     "output_type": "execute_result"
    }
   ],
   "source": [
    "get_ref_phones_from_brand('apple-phones-48.php')"
   ]
  },
  {
   "cell_type": "markdown",
   "metadata": {},
   "source": [
    "la fonction marche bien!"
   ]
  },
  {
   "cell_type": "code",
   "execution_count": 19,
   "metadata": {},
   "outputs": [
    {
     "data": {
      "text/plain": [
       "'apple_iphone_15_pro_max-12548.'"
      ]
     },
     "execution_count": 19,
     "metadata": {},
     "output_type": "execute_result"
    }
   ],
   "source": [
    "a='apple_iphone_15_pro_max-12548.php'\n",
    "a[:-3]"
   ]
  },
  {
   "cell_type": "markdown",
   "metadata": {},
   "source": [
    "définir une fonction qui à partir d'une marque permet de retourner la liste des telephones de cette marque"
   ]
  },
  {
   "cell_type": "code",
   "execution_count": 53,
   "metadata": {},
   "outputs": [],
   "source": [
    "\n",
    "liste_caracteristique= ['weight','cam2modules','cam1modules','price','batdescription1','internalmemory','displayresolution']\n",
    "    \n",
    "url_principal=\"https://www.gsmarena.com/\"\n",
    "def scrap_telephone(ref):\n",
    "        liste_infos=[]\n",
    "        url=url_principal+ref\n",
    "        headers = {\n",
    "        'User-Agent': 'Mozilla'\n",
    "    }\n",
    "        request_text = requests.get(url,headers=headers)\n",
    "        page = BeautifulSoup(request_text.content, \"lxml\")\n",
    "        for carc in liste_caracteristique:\n",
    "\n",
    "            net4g_info = page.find('td', {'class': 'nfo', 'data-spec': carc})\n",
    "            if net4g_info is None:\n",
    "                liste_infos.append(None)\n",
    "            else:\n",
    "                info = net4g_info.get_text()\n",
    "                liste_infos.append(info)\n",
    "            \n",
    "        return liste_infos[:7]\n",
    "    \n",
    "    "
   ]
  },
  {
   "cell_type": "code",
   "execution_count": 24,
   "metadata": {},
   "outputs": [],
   "source": [
    "def get_carc_phones_from_brand(ref_brand):\n",
    "    liste_phones=get_ref_phones_from_brand(ref_brand)\n",
    "    tableau_brand=[]\n",
    "    for ref in liste_phones:\n",
    "        caracs_phones=scrap_telephone(ref)\n",
    "        caracs_phones.append(ref[:-3])\n",
    "        tableau_brand.append(caracs_phones)\n",
    "\n",
    "        time.sleep(2)\n",
    "    colonnes=liste_caracteristique.append(\"téléphone\")\n",
    "    df=pd.DataFrame(tableau_brand,columns=colonnes)\n",
    "    return df\n",
    "    \n",
    "\n"
   ]
  },
  {
   "cell_type": "code",
   "execution_count": 56,
   "metadata": {},
   "outputs": [],
   "source": [
    "# tester la fonction:\n",
    "df=get_carc_phones_from_brand('samsung-phones-9.php')"
   ]
  },
  {
   "cell_type": "code",
   "execution_count": 57,
   "metadata": {},
   "outputs": [
    {
     "data": {
      "text/html": [
       "<div>\n",
       "<style scoped>\n",
       "    .dataframe tbody tr th:only-of-type {\n",
       "        vertical-align: middle;\n",
       "    }\n",
       "\n",
       "    .dataframe tbody tr th {\n",
       "        vertical-align: top;\n",
       "    }\n",
       "\n",
       "    .dataframe thead th {\n",
       "        text-align: right;\n",
       "    }\n",
       "</style>\n",
       "<table border=\"1\" class=\"dataframe\">\n",
       "  <thead>\n",
       "    <tr style=\"text-align: right;\">\n",
       "      <th></th>\n",
       "      <th>0</th>\n",
       "      <th>1</th>\n",
       "      <th>2</th>\n",
       "      <th>3</th>\n",
       "      <th>4</th>\n",
       "      <th>5</th>\n",
       "      <th>6</th>\n",
       "      <th>7</th>\n",
       "    </tr>\n",
       "  </thead>\n",
       "  <tbody>\n",
       "    <tr>\n",
       "      <th>0</th>\n",
       "      <td>480 g or 492 g (1.06 lb)</td>\n",
       "      <td>5 MP</td>\n",
       "      <td>8 MP, AF</td>\n",
       "      <td>None</td>\n",
       "      <td>Li-Po 7040 mAh, non-removable</td>\n",
       "      <td>64GB 4GB RAM, 128GB 8GB RAM</td>\n",
       "      <td>1200 x 1920 pixels, 16:10 ratio (~206 ppi dens...</td>\n",
       "      <td>samsung_galaxy_tab_a9+-12617.</td>\n",
       "    </tr>\n",
       "    <tr>\n",
       "      <th>1</th>\n",
       "      <td>332 g or 333 g (11.71 oz)</td>\n",
       "      <td>2 MP</td>\n",
       "      <td>8 MP, AF</td>\n",
       "      <td>About 180 EUR</td>\n",
       "      <td>Li-Po 5100 mAh, non-removable</td>\n",
       "      <td>64GB 4GB RAM, 128GB 8GB RAM</td>\n",
       "      <td>800 x 1340 pixels, 5:3 ratio (~179 ppi density)</td>\n",
       "      <td>samsung_galaxy_tab_a9-12616.</td>\n",
       "    </tr>\n",
       "    <tr>\n",
       "      <th>2</th>\n",
       "      <td>209 g (7.37 oz)</td>\n",
       "      <td>10 MP, f/2.4, 26mm (wide)</td>\n",
       "      <td>50 MP, f/1.8, 24mm (wide), PDAF, OIS\\r\\n8 MP, ...</td>\n",
       "      <td>$ 449.99 / ₹ 48,825</td>\n",
       "      <td>Li-Ion 4500 mAh, non-removable</td>\n",
       "      <td>128GB 8GB RAM, 256GB 8GB RAM</td>\n",
       "      <td>1080 x 2340 pixels, 19.5:9 ratio (~403 ppi den...</td>\n",
       "      <td>samsung_galaxy_s23_fe-12520.</td>\n",
       "    </tr>\n",
       "    <tr>\n",
       "      <th>3</th>\n",
       "      <td>627 g or 628 g (1.38 lb)</td>\n",
       "      <td>12 MP, (ultrawide)</td>\n",
       "      <td>8 MP, (wide)\\r\\n8 MP, (ultrawide)</td>\n",
       "      <td>About 700 EUR</td>\n",
       "      <td>Li-Po 10090 mAh, non-removable</td>\n",
       "      <td>128GB 8GB RAM, 256GB 12GB RAM</td>\n",
       "      <td>1600 x 2560 pixels, 16:10 ratio (~243 ppi dens...</td>\n",
       "      <td>samsung_galaxy_tab_s9_fe+-12609.</td>\n",
       "    </tr>\n",
       "    <tr>\n",
       "      <th>4</th>\n",
       "      <td>523 g or 524 g (1.15 lb)</td>\n",
       "      <td>12 MP, (ultrawide)</td>\n",
       "      <td>8 MP, (wide)</td>\n",
       "      <td>About 530 EUR</td>\n",
       "      <td>Li-Po 8000 mAh, non-removable</td>\n",
       "      <td>128GB 6GB RAM, 256GB 8GB RAM</td>\n",
       "      <td>1440 x 2304 pixels, 16:10 ratio (~249 ppi dens...</td>\n",
       "      <td>samsung_galaxy_tab_s9_fe-12517.</td>\n",
       "    </tr>\n",
       "  </tbody>\n",
       "</table>\n",
       "</div>"
      ],
      "text/plain": [
       "                           0                          1  \\\n",
       "0   480 g or 492 g (1.06 lb)                       5 MP   \n",
       "1  332 g or 333 g (11.71 oz)                       2 MP   \n",
       "2            209 g (7.37 oz)  10 MP, f/2.4, 26mm (wide)   \n",
       "3   627 g or 628 g (1.38 lb)         12 MP, (ultrawide)   \n",
       "4   523 g or 524 g (1.15 lb)         12 MP, (ultrawide)   \n",
       "\n",
       "                                                   2                    3  \\\n",
       "0                                           8 MP, AF                 None   \n",
       "1                                           8 MP, AF        About 180 EUR   \n",
       "2  50 MP, f/1.8, 24mm (wide), PDAF, OIS\\r\\n8 MP, ...  $ 449.99 / ₹ 48,825   \n",
       "3                  8 MP, (wide)\\r\\n8 MP, (ultrawide)        About 700 EUR   \n",
       "4                                       8 MP, (wide)        About 530 EUR   \n",
       "\n",
       "                                4                              5  \\\n",
       "0   Li-Po 7040 mAh, non-removable    64GB 4GB RAM, 128GB 8GB RAM   \n",
       "1   Li-Po 5100 mAh, non-removable    64GB 4GB RAM, 128GB 8GB RAM   \n",
       "2  Li-Ion 4500 mAh, non-removable   128GB 8GB RAM, 256GB 8GB RAM   \n",
       "3  Li-Po 10090 mAh, non-removable  128GB 8GB RAM, 256GB 12GB RAM   \n",
       "4   Li-Po 8000 mAh, non-removable   128GB 6GB RAM, 256GB 8GB RAM   \n",
       "\n",
       "                                                   6  \\\n",
       "0  1200 x 1920 pixels, 16:10 ratio (~206 ppi dens...   \n",
       "1    800 x 1340 pixels, 5:3 ratio (~179 ppi density)   \n",
       "2  1080 x 2340 pixels, 19.5:9 ratio (~403 ppi den...   \n",
       "3  1600 x 2560 pixels, 16:10 ratio (~243 ppi dens...   \n",
       "4  1440 x 2304 pixels, 16:10 ratio (~249 ppi dens...   \n",
       "\n",
       "                                  7  \n",
       "0     samsung_galaxy_tab_a9+-12617.  \n",
       "1      samsung_galaxy_tab_a9-12616.  \n",
       "2      samsung_galaxy_s23_fe-12520.  \n",
       "3  samsung_galaxy_tab_s9_fe+-12609.  \n",
       "4   samsung_galaxy_tab_s9_fe-12517.  "
      ]
     },
     "execution_count": 57,
     "metadata": {},
     "output_type": "execute_result"
    }
   ],
   "source": [
    "df.head()"
   ]
  },
  {
   "cell_type": "code",
   "execution_count": 54,
   "metadata": {},
   "outputs": [],
   "source": [
    "infos=scrap_telephone(\"samsung_galaxy_tab_a9+-12617.php\")"
   ]
  },
  {
   "cell_type": "code",
   "execution_count": 55,
   "metadata": {},
   "outputs": [
    {
     "data": {
      "text/plain": [
       "['480 g or 492 g (1.06 lb)',\n",
       " '5 MP',\n",
       " '8 MP, AF',\n",
       " None,\n",
       " 'Li-Po 7040 mAh, non-removable',\n",
       " '64GB 4GB RAM, 128GB 8GB RAM',\n",
       " '1200 x 1920 pixels, 16:10 ratio (~206 ppi density)']"
      ]
     },
     "execution_count": 55,
     "metadata": {},
     "output_type": "execute_result"
    }
   ],
   "source": [
    "infos"
   ]
  },
  {
   "cell_type": "code",
   "execution_count": 27,
   "metadata": {},
   "outputs": [
    {
     "data": {
      "text/plain": [
       "['samsung-phones-9.php',\n",
       " 'apple-phones-48.php',\n",
       " 'huawei-phones-58.php',\n",
       " 'nokia-phones-1.php',\n",
       " 'sony-phones-7.php',\n",
       " 'lg-phones-20.php',\n",
       " 'htc-phones-45.php',\n",
       " 'motorola-phones-4.php',\n",
       " 'lenovo-phones-73.php',\n",
       " 'xiaomi-phones-80.php']"
      ]
     },
     "execution_count": 27,
     "metadata": {},
     "output_type": "execute_result"
    }
   ],
   "source": [
    "all_refs[:10]"
   ]
  },
  {
   "cell_type": "code",
   "execution_count": 72,
   "metadata": {},
   "outputs": [],
   "source": [
    "df_final=pd.DataFrame()\n",
    "for ref_brand in all_refs:\n",
    "    df=get_carc_phones_from_brand(ref_brand)\n",
    "    df_final=pd.concat([df_final,df])\n",
    "    df_final.reset_index(drop=True, inplace=True)\n",
    "\n"
   ]
  },
  {
   "cell_type": "code",
   "execution_count": 73,
   "metadata": {},
   "outputs": [
    {
     "data": {
      "text/html": [
       "<div>\n",
       "<style scoped>\n",
       "    .dataframe tbody tr th:only-of-type {\n",
       "        vertical-align: middle;\n",
       "    }\n",
       "\n",
       "    .dataframe tbody tr th {\n",
       "        vertical-align: top;\n",
       "    }\n",
       "\n",
       "    .dataframe thead th {\n",
       "        text-align: right;\n",
       "    }\n",
       "</style>\n",
       "<table border=\"1\" class=\"dataframe\">\n",
       "  <thead>\n",
       "    <tr style=\"text-align: right;\">\n",
       "      <th></th>\n",
       "      <th>0</th>\n",
       "      <th>1</th>\n",
       "      <th>2</th>\n",
       "      <th>3</th>\n",
       "      <th>4</th>\n",
       "      <th>5</th>\n",
       "      <th>6</th>\n",
       "      <th>7</th>\n",
       "    </tr>\n",
       "  </thead>\n",
       "  <tbody>\n",
       "    <tr>\n",
       "      <th>1311</th>\n",
       "      <td>448 g (15.80 oz)</td>\n",
       "      <td>5 MP, f/2.2, (wide), 1/5\", 1.12µm</td>\n",
       "      <td>5 MP, f/2.4, (wide), 1/5\", 1.12µm</td>\n",
       "      <td>About 180 EUR</td>\n",
       "      <td>Li-Po 5500 mAh, non-removable</td>\n",
       "      <td>32GB 3GB RAM</td>\n",
       "      <td>800 x 1280 pixels, 16:10 ratio (~149 ppi density)</td>\n",
       "      <td>tcl_tab_10_hd_4g-11393.</td>\n",
       "    </tr>\n",
       "    <tr>\n",
       "      <th>1312</th>\n",
       "      <td>172 g (6.07 oz)</td>\n",
       "      <td>8 MP, (wide)</td>\n",
       "      <td>13 MP, (wide), 1.12µm , AF</td>\n",
       "      <td>About 70 EUR</td>\n",
       "      <td>Li-Ion 3000 mAh, removable</td>\n",
       "      <td>32GB 3GB RAM</td>\n",
       "      <td>720 x 1560 pixels, 19.5:9 ratio (~282 ppi dens...</td>\n",
       "      <td>tcl_30_le-12567.</td>\n",
       "    </tr>\n",
       "    <tr>\n",
       "      <th>1313</th>\n",
       "      <td>184 g (6.49 oz)</td>\n",
       "      <td>13 MP, f/2.3, 19mm (ultrawide), 1/3\", 1.12µm</td>\n",
       "      <td>50 MP, f/1.8, 28mm (wide), 1/2.76\", 0.64µm, PD...</td>\n",
       "      <td>About 250 EUR</td>\n",
       "      <td>Li-Po 5010 mAh, non-removable</td>\n",
       "      <td>64GB 4GB RAM, 128GB 4GB RAM</td>\n",
       "      <td>1080 x 2400 pixels, 20:9 ratio (~393 ppi density)</td>\n",
       "      <td>tcl_30_5g-11387.</td>\n",
       "    </tr>\n",
       "    <tr>\n",
       "      <th>1314</th>\n",
       "      <td>184 g (6.49 oz)</td>\n",
       "      <td>13 MP, f/2.3, 19mm (ultrawide), 1/3\", 1.12µm</td>\n",
       "      <td>50 MP, f/1.9, 28mm (wide), 1/2.76\", 0.64µm, PD...</td>\n",
       "      <td>About 220 EUR</td>\n",
       "      <td>Li-Po 5010 mAh, non-removable</td>\n",
       "      <td>128GB 4GB RAM</td>\n",
       "      <td>1080 x 2400 pixels, 20:9 ratio (~393 ppi density)</td>\n",
       "      <td>tcl_30+-11386.</td>\n",
       "    </tr>\n",
       "    <tr>\n",
       "      <th>1315</th>\n",
       "      <td>184 g (6.49 oz)</td>\n",
       "      <td>8 MP, f/2.0, 26mm (wide), 1/4\", 1.12µm</td>\n",
       "      <td>50 MP, f/1.9, 28mm (wide), 1/2.76\", 0.64µm, PD...</td>\n",
       "      <td>About 200 EUR</td>\n",
       "      <td>Li-Po 5010 mAh, non-removable</td>\n",
       "      <td>64GB 4GB RAM</td>\n",
       "      <td>1080 x 2400 pixels, 20:9 ratio (~393 ppi density)</td>\n",
       "      <td>tcl_30-11385.</td>\n",
       "    </tr>\n",
       "  </tbody>\n",
       "</table>\n",
       "</div>"
      ],
      "text/plain": [
       "                     0                                             1  \\\n",
       "1311  448 g (15.80 oz)             5 MP, f/2.2, (wide), 1/5\", 1.12µm   \n",
       "1312   172 g (6.07 oz)                                  8 MP, (wide)   \n",
       "1313   184 g (6.49 oz)  13 MP, f/2.3, 19mm (ultrawide), 1/3\", 1.12µm   \n",
       "1314   184 g (6.49 oz)  13 MP, f/2.3, 19mm (ultrawide), 1/3\", 1.12µm   \n",
       "1315   184 g (6.49 oz)       8 MP, f/2.0, 26mm (wide), 1/4\", 1.12µm    \n",
       "\n",
       "                                                      2              3  \\\n",
       "1311                  5 MP, f/2.4, (wide), 1/5\", 1.12µm  About 180 EUR   \n",
       "1312                         13 MP, (wide), 1.12µm , AF   About 70 EUR   \n",
       "1313  50 MP, f/1.8, 28mm (wide), 1/2.76\", 0.64µm, PD...  About 250 EUR   \n",
       "1314  50 MP, f/1.9, 28mm (wide), 1/2.76\", 0.64µm, PD...  About 220 EUR   \n",
       "1315  50 MP, f/1.9, 28mm (wide), 1/2.76\", 0.64µm, PD...  About 200 EUR   \n",
       "\n",
       "                                  4                            5  \\\n",
       "1311  Li-Po 5500 mAh, non-removable                 32GB 3GB RAM   \n",
       "1312     Li-Ion 3000 mAh, removable                 32GB 3GB RAM   \n",
       "1313  Li-Po 5010 mAh, non-removable  64GB 4GB RAM, 128GB 4GB RAM   \n",
       "1314  Li-Po 5010 mAh, non-removable                128GB 4GB RAM   \n",
       "1315  Li-Po 5010 mAh, non-removable                 64GB 4GB RAM   \n",
       "\n",
       "                                                      6  \\\n",
       "1311  800 x 1280 pixels, 16:10 ratio (~149 ppi density)   \n",
       "1312  720 x 1560 pixels, 19.5:9 ratio (~282 ppi dens...   \n",
       "1313  1080 x 2400 pixels, 20:9 ratio (~393 ppi density)   \n",
       "1314  1080 x 2400 pixels, 20:9 ratio (~393 ppi density)   \n",
       "1315  1080 x 2400 pixels, 20:9 ratio (~393 ppi density)   \n",
       "\n",
       "                            7  \n",
       "1311  tcl_tab_10_hd_4g-11393.  \n",
       "1312         tcl_30_le-12567.  \n",
       "1313         tcl_30_5g-11387.  \n",
       "1314           tcl_30+-11386.  \n",
       "1315            tcl_30-11385.  "
      ]
     },
     "execution_count": 73,
     "metadata": {},
     "output_type": "execute_result"
    }
   ],
   "source": [
    "df_final.tail()\n"
   ]
  },
  {
   "cell_type": "code",
   "execution_count": 74,
   "metadata": {},
   "outputs": [],
   "source": [
    "\n",
    "liste_caracteristique= ['weight','cam2modules','cam1modules','price','batdescription1','internalmemory','displayresolution']\n",
    "colonnes=liste_caracteristique+['téléphone']\n",
    "df_final.columns=colonnes"
   ]
  },
  {
   "cell_type": "code",
   "execution_count": 75,
   "metadata": {},
   "outputs": [],
   "source": [
    "df_final.to_csv('data_telephones_all.csv', index=False)"
   ]
  }
 ],
 "metadata": {
  "kernelspec": {
   "display_name": "Python 3",
   "language": "python",
   "name": "python3"
  },
  "language_info": {
   "codemirror_mode": {
    "name": "ipython",
    "version": 3
   },
   "file_extension": ".py",
   "mimetype": "text/x-python",
   "name": "python",
   "nbconvert_exporter": "python",
   "pygments_lexer": "ipython3",
   "version": "3.10.4"
  }
 },
 "nbformat": 4,
 "nbformat_minor": 2
}
