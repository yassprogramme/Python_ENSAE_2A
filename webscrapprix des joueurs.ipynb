{
 "cells": [
  {
   "cell_type": "markdown",
   "metadata": {},
   "source": [
    "# webscrapper les prix des jouerus"
   ]
  },
  {
   "cell_type": "code",
   "execution_count": 63,
   "metadata": {},
   "outputs": [],
   "source": [
    "import requests\n",
    "from bs4 import BeautifulSoup\n",
    "import pandas\n",
    "import urllib\n",
    "from urllib import request\n",
    "import pandas as pd"
   ]
  },
  {
   "cell_type": "code",
   "execution_count": 39,
   "metadata": {},
   "outputs": [],
   "source": [
    "url=\"https://www.transfermarkt.fr/premier-league/transfers/wettbewerb/GB1\"\n",
    "headers = {\n",
    "    'User-Agent': 'Mozilla'\n",
    "}\n",
    "request_text = requests.get(url,headers=headers)"
   ]
  },
  {
   "cell_type": "code",
   "execution_count": 40,
   "metadata": {},
   "outputs": [
    {
     "data": {
      "text/plain": [
       "200"
      ]
     },
     "execution_count": 40,
     "metadata": {},
     "output_type": "execute_result"
    }
   ],
   "source": [
    "request_text.status_code\n"
   ]
  },
  {
   "cell_type": "code",
   "execution_count": 68,
   "metadata": {},
   "outputs": [],
   "source": [
    "page = BeautifulSoup(request_text.content, \"lxml\")\n",
    "\n",
    "tables=page.find_all('div',class_='responsive-table')\n",
    "\n"
   ]
  },
  {
   "cell_type": "markdown",
   "metadata": {},
   "source": [
    "# Récupération des équipes"
   ]
  },
  {
   "cell_type": "code",
   "execution_count": 86,
   "metadata": {},
   "outputs": [
    {
     "name": "stdout",
     "output_type": "stream",
     "text": [
      "[None, None, 'Arsenal FC', 'Aston Villa', 'AFC Bournemouth', 'FC Brentford', 'Brighton & Hove Albion', 'Burnley FC', 'Chelsea FC', 'Crystal Palace', 'FC Everton', 'FC Fulham', 'FC Liverpool', 'Luton Town', 'Manchester City', 'Manchester United', 'Newcastle United', 'Nottingham Forest', 'Sheffield United', 'Tottenham Hotspur', 'West Ham United', 'Wolverhampton Wanderers', None, 'Khvicha Kvaratskhelia']\n"
     ]
    }
   ],
   "source": [
    "infos_equipe=page.find_all('div',class_='box')\n",
    "all_teams=[]\n",
    "for info in infos_equipe:\n",
    "    team=info.find('a')\n",
    "    if team!=None:\n",
    "        team=team.get('title')\n",
    "        all_teams.append(team)\n",
    "print(all_teams)\n"
   ]
  },
  {
   "cell_type": "code",
   "execution_count": 90,
   "metadata": {},
   "outputs": [
    {
     "name": "stdout",
     "output_type": "stream",
     "text": [
      "['Arsenal FC', 'Aston Villa', 'AFC Bournemouth', 'FC Brentford', 'Brighton & Hove Albion', 'Burnley FC', 'Chelsea FC', 'Crystal Palace', 'FC Everton', 'FC Fulham', 'FC Liverpool', 'Luton Town', 'Manchester City', 'Manchester United', 'Newcastle United', 'Nottingham Forest', 'Sheffield United', 'Tottenham Hotspur', 'West Ham United', 'Wolverhampton Wanderers', 'Khvicha Kvaratskhelia']\n"
     ]
    }
   ],
   "source": [
    "teams=[team for team in all_teams if team!=None]\n",
    "print(teams)"
   ]
  },
  {
   "cell_type": "code",
   "execution_count": 42,
   "metadata": {},
   "outputs": [],
   "source": [
    "table=tables[0]\n"
   ]
  },
  {
   "cell_type": "code",
   "execution_count": 43,
   "metadata": {},
   "outputs": [],
   "source": [
    "lignes=table.find_all('tr')"
   ]
  },
  {
   "cell_type": "code",
   "execution_count": 45,
   "metadata": {},
   "outputs": [
    {
     "name": "stdout",
     "output_type": "stream",
     "text": [
      "['Arrivées', 'Âge', 'Nat.', 'Position', 'Pos', 'Valeur marchande', 'Venant de', 'Montant de transfert']\n"
     ]
    }
   ],
   "source": [
    "list0=[]\n",
    "ligne0=lignes[0]\n",
    "colonnes0=ligne0.find_all('th')\n",
    "for colonne in colonnes0:\n",
    "    list0.append(colonne.text)\n",
    "print(list0)\n"
   ]
  },
  {
   "cell_type": "markdown",
   "metadata": {},
   "source": [
    "# un essaie pour récupérer un premier tableau"
   ]
  },
  {
   "cell_type": "code",
   "execution_count": 62,
   "metadata": {},
   "outputs": [
    {
     "name": "stdout",
     "output_type": "stream",
     "text": [
      "[['Declan RiceD. Rice', '24', 'Angleterre', 'Milieu défensif', 'MDC', '100,00 mio. €', 'West Ham United', 'Angleterre', '116,60 mio. €'], ['Kai HavertzK. Havertz', '24', 'Allemagne', 'Milieu offensif', 'MO', '60,00 mio. €', 'Chelsea FC', 'Angleterre', '75,00 mio. €'], ['Jurrien TimberJ. Timber', '22', 'Pays-Bas', 'Défenseur central', 'DC', '42,00 mio. €', 'Ajax Amsterdam', 'Pays-Bas', '40,00 mio. €'], ['David RayaD. Raya', '27', 'Espagne', 'Gardien de but', 'GdB', '32,00 mio. €', 'FC Brentford', 'Angleterre', 'Montant du prêt:3,34 mio. €'], ['Albert Sambi LokongaA. Lokonga', '24', 'Belgique', 'Milieu central', 'MC', '15,00 mio. €', 'Luton Town', 'Angleterre', 'Fin du prêt31 mai 2024'], ['Folarin BalogunF. Balogun', '21', 'États-Unis', 'Avant-centre', 'AC', '30,00 mio. €', 'Stade de Reims', 'France', 'Fin du prêt30 juin 2023'], ['Arthur OkonkwoA. Okonkwo', '22', 'Angleterre', 'Gardien de but', 'GdB', '2,00 mio. €', 'Wrexham AFC', 'Angleterre', 'Fin du prêt31 mai 2024'], ['Pablo MaríP. Marí', '29', 'Espagne', 'Défenseur central', 'DC', '5,00 mio. €', 'AC Monza', 'Italie', 'Fin du prêt30 juin 2023'], ['Rúnar Alex RúnarssonR. Rúnarsson', '28', 'Islande', 'Gardien de but', 'GdB', '1,00 mio. €', 'Alanyaspor', 'Turquie', 'Fin du prêt30 juin 2023'], ['Nicolas PépéN. Pépé', '28', \"Côte d'Ivoire\", 'Ailier droit', 'AiD', '14,00 mio. €', 'OGC Nice', 'France', 'Fin du prêt30 juin 2023'], ['Rúnar Alex RúnarssonR. Rúnarsson', '29', 'Islande', 'Gardien de but', 'GdB', '1,00 mio. €', 'Cardiff City', 'Angleterre', 'Fin du prêt31 mai 2024'], ['Arthur OkonkwoA. Okonkwo', '21', 'Angleterre', 'Gardien de but', 'GdB', '2,00 mio. €', 'SK Sturm Graz', 'Autriche', 'Fin du prêt30 juin 2023'], ['Cédric SoaresC. Soares', '31', 'Portugal', 'Arrière droit', 'ArD', '3,00 mio. €', 'FC Fulham', 'Angleterre', 'Fin du prêt30 juin 2023'], ['Nuno TavaresN. Tavares', '23', 'Portugal', 'Arrière gauche', 'ArG', '18,00 mio. €', 'Olympique de Marseille', 'France', 'Fin du prêt30 juin 2023']]\n"
     ]
    }
   ],
   "source": [
    "taille=len(lignes)-1\n",
    "table=[0 for i in range(taille)]\n",
    "colonnes=[0 for i in range(taille)]\n",
    "row=[0 for i in range(taille)]\n",
    "for i in range(1,len(lignes)):\n",
    "    table[i-1]=lignes[i]\n",
    "    colonnes[i-1]=table[i-1].find_all('td')\n",
    "    row[i-1]=[]\n",
    "    for colonne in colonnes[i-1]:\n",
    "        title=colonne.find('img')\n",
    "        if title!=None:\n",
    "            row[i-1].append(title.get(\"title\"))\n",
    "        else:\n",
    "            row[i-1].append(colonne.text)\n",
    "print(row)"
   ]
  },
  {
   "cell_type": "markdown",
   "metadata": {},
   "source": [
    "on définit ici une fonction qui permet de récupérer le tableau dans le site avec certaines modifications "
   ]
  },
  {
   "cell_type": "code",
   "execution_count": 108,
   "metadata": {},
   "outputs": [],
   "source": [
    "def create_table(team,table):\n",
    "    \"\"\" cette fonction permet de prender un tableau en entrée sous la forme de code html et après\n",
    "    elle le transforme en un vrai tableau, cette fonction retourne aussi l'état du tableau: \n",
    "     càd est ce que le tableau est remplie de joueurs arrivant au team ou ce sont des joueurs vendus par le team\n",
    "       \"\"\"\n",
    "\n",
    "\n",
    "    lignes=table.find_all('tr')\n",
    "    list0=[]\n",
    "    ligne0=lignes[0]\n",
    "    colonnes0=ligne0.find_all('th')\n",
    "    for colonne in colonnes0:\n",
    "        list0.append(colonne.text)\n",
    "    \n",
    "    etat=list0[0]\n",
    "    taille=len(lignes)-1\n",
    "    table=[0 for i in range(taille)]\n",
    "    colonnes=[0 for i in range(taille)]\n",
    "    row=[0 for i in range(taille)]\n",
    "    for i in range(1,len(lignes)):\n",
    "        table[i-1]=lignes[i]\n",
    "        colonnes[i-1]=table[i-1].find_all('td')\n",
    "        row[i-1]=[]\n",
    "        for colonne in colonnes[i-1]:\n",
    "            title=colonne.find('img')\n",
    "            if title!=None:\n",
    "                row[i-1].append(title.get(\"title\"))\n",
    "            else:\n",
    "                row[i-1].append(colonne.text)\n",
    "                \n",
    "    df=pd.DataFrame(row)\n",
    "\n",
    "    return df,etat\n",
    "    \n",
    "        \n",
    "    "
   ]
  },
  {
   "cell_type": "markdown",
   "metadata": {},
   "source": [
    "# Test"
   ]
  },
  {
   "cell_type": "markdown",
   "metadata": {},
   "source": [
    "je vais essayer de récupérer les deux premiers tablaux de la page web à la main  avnt de faire une boucle et récupérer tous les tableaux "
   ]
  },
  {
   "cell_type": "code",
   "execution_count": 98,
   "metadata": {},
   "outputs": [],
   "source": [
    "table=tables[0]\n",
    "df,etat=create_table(\"walu\",table)\n"
   ]
  },
  {
   "cell_type": "code",
   "execution_count": 99,
   "metadata": {},
   "outputs": [
    {
     "name": "stdout",
     "output_type": "stream",
     "text": [
      "Arrivées\n"
     ]
    }
   ],
   "source": [
    "print(etat)"
   ]
  },
  {
   "cell_type": "code",
   "execution_count": 75,
   "metadata": {},
   "outputs": [
    {
     "data": {
      "text/html": [
       "<div>\n",
       "<style scoped>\n",
       "    .dataframe tbody tr th:only-of-type {\n",
       "        vertical-align: middle;\n",
       "    }\n",
       "\n",
       "    .dataframe tbody tr th {\n",
       "        vertical-align: top;\n",
       "    }\n",
       "\n",
       "    .dataframe thead th {\n",
       "        text-align: right;\n",
       "    }\n",
       "</style>\n",
       "<table border=\"1\" class=\"dataframe\">\n",
       "  <thead>\n",
       "    <tr style=\"text-align: right;\">\n",
       "      <th></th>\n",
       "      <th>0</th>\n",
       "      <th>1</th>\n",
       "      <th>2</th>\n",
       "      <th>3</th>\n",
       "      <th>4</th>\n",
       "      <th>5</th>\n",
       "      <th>6</th>\n",
       "      <th>7</th>\n",
       "      <th>8</th>\n",
       "    </tr>\n",
       "  </thead>\n",
       "  <tbody>\n",
       "    <tr>\n",
       "      <th>0</th>\n",
       "      <td>Declan RiceD. Rice</td>\n",
       "      <td>24</td>\n",
       "      <td>Angleterre</td>\n",
       "      <td>Milieu défensif</td>\n",
       "      <td>MDC</td>\n",
       "      <td>100,00 mio. €</td>\n",
       "      <td>West Ham United</td>\n",
       "      <td>Angleterre</td>\n",
       "      <td>116,60 mio. €</td>\n",
       "    </tr>\n",
       "    <tr>\n",
       "      <th>1</th>\n",
       "      <td>Kai HavertzK. Havertz</td>\n",
       "      <td>24</td>\n",
       "      <td>Allemagne</td>\n",
       "      <td>Milieu offensif</td>\n",
       "      <td>MO</td>\n",
       "      <td>60,00 mio. €</td>\n",
       "      <td>Chelsea FC</td>\n",
       "      <td>Angleterre</td>\n",
       "      <td>75,00 mio. €</td>\n",
       "    </tr>\n",
       "    <tr>\n",
       "      <th>2</th>\n",
       "      <td>Jurrien TimberJ. Timber</td>\n",
       "      <td>22</td>\n",
       "      <td>Pays-Bas</td>\n",
       "      <td>Défenseur central</td>\n",
       "      <td>DC</td>\n",
       "      <td>42,00 mio. €</td>\n",
       "      <td>Ajax Amsterdam</td>\n",
       "      <td>Pays-Bas</td>\n",
       "      <td>40,00 mio. €</td>\n",
       "    </tr>\n",
       "    <tr>\n",
       "      <th>3</th>\n",
       "      <td>David RayaD. Raya</td>\n",
       "      <td>27</td>\n",
       "      <td>Espagne</td>\n",
       "      <td>Gardien de but</td>\n",
       "      <td>GdB</td>\n",
       "      <td>32,00 mio. €</td>\n",
       "      <td>FC Brentford</td>\n",
       "      <td>Angleterre</td>\n",
       "      <td>Montant du prêt:3,34 mio. €</td>\n",
       "    </tr>\n",
       "    <tr>\n",
       "      <th>4</th>\n",
       "      <td>Albert Sambi LokongaA. Lokonga</td>\n",
       "      <td>24</td>\n",
       "      <td>Belgique</td>\n",
       "      <td>Milieu central</td>\n",
       "      <td>MC</td>\n",
       "      <td>15,00 mio. €</td>\n",
       "      <td>Luton Town</td>\n",
       "      <td>Angleterre</td>\n",
       "      <td>Fin du prêt31 mai 2024</td>\n",
       "    </tr>\n",
       "  </tbody>\n",
       "</table>\n",
       "</div>"
      ],
      "text/plain": [
       "                                0   1           2                  3    4  \\\n",
       "0              Declan RiceD. Rice  24  Angleterre    Milieu défensif  MDC   \n",
       "1           Kai HavertzK. Havertz  24   Allemagne    Milieu offensif   MO   \n",
       "2         Jurrien TimberJ. Timber  22    Pays-Bas  Défenseur central   DC   \n",
       "3               David RayaD. Raya  27     Espagne     Gardien de but  GdB   \n",
       "4  Albert Sambi LokongaA. Lokonga  24    Belgique     Milieu central   MC   \n",
       "\n",
       "               5                6           7                            8  \n",
       "0  100,00 mio. €  West Ham United  Angleterre                116,60 mio. €  \n",
       "1   60,00 mio. €       Chelsea FC  Angleterre                 75,00 mio. €  \n",
       "2   42,00 mio. €   Ajax Amsterdam    Pays-Bas                 40,00 mio. €  \n",
       "3   32,00 mio. €     FC Brentford  Angleterre  Montant du prêt:3,34 mio. €  \n",
       "4   15,00 mio. €       Luton Town  Angleterre       Fin du prêt31 mai 2024  "
      ]
     },
     "execution_count": 75,
     "metadata": {},
     "output_type": "execute_result"
    }
   ],
   "source": [
    "df.head()"
   ]
  },
  {
   "cell_type": "code",
   "execution_count": 76,
   "metadata": {},
   "outputs": [
    {
     "data": {
      "text/html": [
       "<div>\n",
       "<style scoped>\n",
       "    .dataframe tbody tr th:only-of-type {\n",
       "        vertical-align: middle;\n",
       "    }\n",
       "\n",
       "    .dataframe tbody tr th {\n",
       "        vertical-align: top;\n",
       "    }\n",
       "\n",
       "    .dataframe thead th {\n",
       "        text-align: right;\n",
       "    }\n",
       "</style>\n",
       "<table border=\"1\" class=\"dataframe\">\n",
       "  <thead>\n",
       "    <tr style=\"text-align: right;\">\n",
       "      <th></th>\n",
       "      <th>0</th>\n",
       "      <th>1</th>\n",
       "      <th>2</th>\n",
       "      <th>3</th>\n",
       "      <th>4</th>\n",
       "      <th>5</th>\n",
       "      <th>6</th>\n",
       "      <th>7</th>\n",
       "      <th>8</th>\n",
       "    </tr>\n",
       "  </thead>\n",
       "  <tbody>\n",
       "    <tr>\n",
       "      <th>0</th>\n",
       "      <td>Folarin BalogunF. Balogun</td>\n",
       "      <td>22</td>\n",
       "      <td>États-Unis</td>\n",
       "      <td>Avant-centre</td>\n",
       "      <td>AC</td>\n",
       "      <td>30,00 mio. €</td>\n",
       "      <td>AS Monaco</td>\n",
       "      <td>France</td>\n",
       "      <td>30,00 mio. €</td>\n",
       "    </tr>\n",
       "    <tr>\n",
       "      <th>1</th>\n",
       "      <td>Granit XhakaG. Xhaka</td>\n",
       "      <td>30</td>\n",
       "      <td>Suisse</td>\n",
       "      <td>Milieu défensif</td>\n",
       "      <td>MDC</td>\n",
       "      <td>20,00 mio. €</td>\n",
       "      <td>Bayer 04 Leverkusen</td>\n",
       "      <td>Allemagne</td>\n",
       "      <td>15,00 mio. €</td>\n",
       "    </tr>\n",
       "    <tr>\n",
       "      <th>2</th>\n",
       "      <td>Matt TurnerM. Turner</td>\n",
       "      <td>29</td>\n",
       "      <td>États-Unis</td>\n",
       "      <td>Gardien de but</td>\n",
       "      <td>GdB</td>\n",
       "      <td>10,00 mio. €</td>\n",
       "      <td>Nottingham Forest</td>\n",
       "      <td>Angleterre</td>\n",
       "      <td>8,15 mio. €</td>\n",
       "    </tr>\n",
       "    <tr>\n",
       "      <th>3</th>\n",
       "      <td>Auston TrustyA. Trusty</td>\n",
       "      <td>24</td>\n",
       "      <td>États-Unis</td>\n",
       "      <td>Défenseur central</td>\n",
       "      <td>DC</td>\n",
       "      <td>8,00 mio. €</td>\n",
       "      <td>Sheffield United</td>\n",
       "      <td>Angleterre</td>\n",
       "      <td>5,80 mio. €</td>\n",
       "    </tr>\n",
       "    <tr>\n",
       "      <th>4</th>\n",
       "      <td>Pablo MaríP. Marí</td>\n",
       "      <td>29</td>\n",
       "      <td>Espagne</td>\n",
       "      <td>Défenseur central</td>\n",
       "      <td>DC</td>\n",
       "      <td>5,00 mio. €</td>\n",
       "      <td>AC Monza</td>\n",
       "      <td>Italie</td>\n",
       "      <td>4,90 mio. €</td>\n",
       "    </tr>\n",
       "  </tbody>\n",
       "</table>\n",
       "</div>"
      ],
      "text/plain": [
       "                           0   1           2                  3    4  \\\n",
       "0  Folarin BalogunF. Balogun  22  États-Unis       Avant-centre   AC   \n",
       "1       Granit XhakaG. Xhaka  30      Suisse    Milieu défensif  MDC   \n",
       "2       Matt TurnerM. Turner  29  États-Unis     Gardien de but  GdB   \n",
       "3     Auston TrustyA. Trusty  24  États-Unis  Défenseur central   DC   \n",
       "4          Pablo MaríP. Marí  29     Espagne  Défenseur central   DC   \n",
       "\n",
       "              5                    6           7             8  \n",
       "0  30,00 mio. €            AS Monaco      France  30,00 mio. €  \n",
       "1  20,00 mio. €  Bayer 04 Leverkusen   Allemagne  15,00 mio. €  \n",
       "2  10,00 mio. €    Nottingham Forest  Angleterre   8,15 mio. €  \n",
       "3   8,00 mio. €     Sheffield United  Angleterre   5,80 mio. €  \n",
       "4   5,00 mio. €             AC Monza      Italie   4,90 mio. €  "
      ]
     },
     "execution_count": 76,
     "metadata": {},
     "output_type": "execute_result"
    }
   ],
   "source": [
    "table2=tables[1]\n",
    "df2=create_table('walu',table2)\n",
    "df2.head()"
   ]
  },
  {
   "cell_type": "markdown",
   "metadata": {},
   "source": [
    "# Concaténer les différents tableaux"
   ]
  },
  {
   "cell_type": "markdown",
   "metadata": {},
   "source": [
    "là je fais une bouce pour récupérer tous les tableaux de cette page web , après on va les concaténer pour avoir une base de données claires"
   ]
  },
  {
   "cell_type": "code",
   "execution_count": 118,
   "metadata": {},
   "outputs": [],
   "source": [
    "df=[0 for i in range(len(tables))]\n",
    "\n",
    "for i in range(len(tables)):\n",
    "    table=tables[i]\n",
    "   \n",
    "    team=teams[(i//2)]\n",
    "    \n",
    "    df[i],etat=create_table(team,table)\n",
    "\n",
    "    if etat==\"Arrivées\":\n",
    "        df[i]['team_acheteur']=team\n",
    "    else:\n",
    "        df[i]['team vendeur']=team\n",
    "         \n",
    "    \n",
    "    "
   ]
  },
  {
   "cell_type": "code",
   "execution_count": 121,
   "metadata": {},
   "outputs": [],
   "source": [
    "concatenated_df = pd.concat(df, ignore_index=True)\n"
   ]
  },
  {
   "cell_type": "code",
   "execution_count": 122,
   "metadata": {},
   "outputs": [
    {
     "data": {
      "text/html": [
       "<div>\n",
       "<style scoped>\n",
       "    .dataframe tbody tr th:only-of-type {\n",
       "        vertical-align: middle;\n",
       "    }\n",
       "\n",
       "    .dataframe tbody tr th {\n",
       "        vertical-align: top;\n",
       "    }\n",
       "\n",
       "    .dataframe thead th {\n",
       "        text-align: right;\n",
       "    }\n",
       "</style>\n",
       "<table border=\"1\" class=\"dataframe\">\n",
       "  <thead>\n",
       "    <tr style=\"text-align: right;\">\n",
       "      <th></th>\n",
       "      <th>0</th>\n",
       "      <th>1</th>\n",
       "      <th>2</th>\n",
       "      <th>3</th>\n",
       "      <th>4</th>\n",
       "      <th>5</th>\n",
       "      <th>6</th>\n",
       "      <th>7</th>\n",
       "      <th>8</th>\n",
       "      <th>team_acheteur</th>\n",
       "      <th>team vendeur</th>\n",
       "    </tr>\n",
       "  </thead>\n",
       "  <tbody>\n",
       "    <tr>\n",
       "      <th>0</th>\n",
       "      <td>Declan RiceD. Rice</td>\n",
       "      <td>24</td>\n",
       "      <td>Angleterre</td>\n",
       "      <td>Milieu défensif</td>\n",
       "      <td>MDC</td>\n",
       "      <td>100,00 mio. €</td>\n",
       "      <td>West Ham United</td>\n",
       "      <td>Angleterre</td>\n",
       "      <td>116,60 mio. €</td>\n",
       "      <td>Arsenal FC</td>\n",
       "      <td>NaN</td>\n",
       "    </tr>\n",
       "    <tr>\n",
       "      <th>1</th>\n",
       "      <td>Kai HavertzK. Havertz</td>\n",
       "      <td>24</td>\n",
       "      <td>Allemagne</td>\n",
       "      <td>Milieu offensif</td>\n",
       "      <td>MO</td>\n",
       "      <td>60,00 mio. €</td>\n",
       "      <td>Chelsea FC</td>\n",
       "      <td>Angleterre</td>\n",
       "      <td>75,00 mio. €</td>\n",
       "      <td>Arsenal FC</td>\n",
       "      <td>NaN</td>\n",
       "    </tr>\n",
       "    <tr>\n",
       "      <th>2</th>\n",
       "      <td>Jurrien TimberJ. Timber</td>\n",
       "      <td>22</td>\n",
       "      <td>Pays-Bas</td>\n",
       "      <td>Défenseur central</td>\n",
       "      <td>DC</td>\n",
       "      <td>42,00 mio. €</td>\n",
       "      <td>Ajax Amsterdam</td>\n",
       "      <td>Pays-Bas</td>\n",
       "      <td>40,00 mio. €</td>\n",
       "      <td>Arsenal FC</td>\n",
       "      <td>NaN</td>\n",
       "    </tr>\n",
       "    <tr>\n",
       "      <th>3</th>\n",
       "      <td>David RayaD. Raya</td>\n",
       "      <td>27</td>\n",
       "      <td>Espagne</td>\n",
       "      <td>Gardien de but</td>\n",
       "      <td>GdB</td>\n",
       "      <td>32,00 mio. €</td>\n",
       "      <td>FC Brentford</td>\n",
       "      <td>Angleterre</td>\n",
       "      <td>Montant du prêt:3,34 mio. €</td>\n",
       "      <td>Arsenal FC</td>\n",
       "      <td>NaN</td>\n",
       "    </tr>\n",
       "    <tr>\n",
       "      <th>4</th>\n",
       "      <td>Albert Sambi LokongaA. Lokonga</td>\n",
       "      <td>24</td>\n",
       "      <td>Belgique</td>\n",
       "      <td>Milieu central</td>\n",
       "      <td>MC</td>\n",
       "      <td>15,00 mio. €</td>\n",
       "      <td>Luton Town</td>\n",
       "      <td>Angleterre</td>\n",
       "      <td>Fin du prêt31 mai 2024</td>\n",
       "      <td>Arsenal FC</td>\n",
       "      <td>NaN</td>\n",
       "    </tr>\n",
       "    <tr>\n",
       "      <th>...</th>\n",
       "      <td>...</td>\n",
       "      <td>...</td>\n",
       "      <td>...</td>\n",
       "      <td>...</td>\n",
       "      <td>...</td>\n",
       "      <td>...</td>\n",
       "      <td>...</td>\n",
       "      <td>...</td>\n",
       "      <td>...</td>\n",
       "      <td>...</td>\n",
       "      <td>...</td>\n",
       "    </tr>\n",
       "    <tr>\n",
       "      <th>621</th>\n",
       "      <td>Ki-Jana HoeverK. Hoever</td>\n",
       "      <td>21</td>\n",
       "      <td>Pays-Bas</td>\n",
       "      <td>Arrière droit</td>\n",
       "      <td>ArD</td>\n",
       "      <td>3,50 mio. €</td>\n",
       "      <td>Stoke City</td>\n",
       "      <td>Angleterre</td>\n",
       "      <td>Prêt</td>\n",
       "      <td>NaN</td>\n",
       "      <td>Wolverhampton Wanderers</td>\n",
       "    </tr>\n",
       "    <tr>\n",
       "      <th>622</th>\n",
       "      <td>ChiquinhoChiquinho</td>\n",
       "      <td>23</td>\n",
       "      <td>Portugal</td>\n",
       "      <td>Ailier gauche</td>\n",
       "      <td>AiG</td>\n",
       "      <td>2,00 mio. €</td>\n",
       "      <td>Stoke City</td>\n",
       "      <td>Angleterre</td>\n",
       "      <td>Prêt</td>\n",
       "      <td>NaN</td>\n",
       "      <td>Wolverhampton Wanderers</td>\n",
       "    </tr>\n",
       "    <tr>\n",
       "      <th>623</th>\n",
       "      <td>Matheus CunhaM. Cunha</td>\n",
       "      <td>24</td>\n",
       "      <td>Brésil</td>\n",
       "      <td>Avant-centre</td>\n",
       "      <td>AC</td>\n",
       "      <td>28,00 mio. €</td>\n",
       "      <td>Atlético de Madrid</td>\n",
       "      <td>Espagne</td>\n",
       "      <td>Fin du prêt30 juin 2023</td>\n",
       "      <td>NaN</td>\n",
       "      <td>Wolverhampton Wanderers</td>\n",
       "    </tr>\n",
       "    <tr>\n",
       "      <th>624</th>\n",
       "      <td>Tommy DoyleT. Doyle</td>\n",
       "      <td>22</td>\n",
       "      <td>Angleterre</td>\n",
       "      <td>Milieu central</td>\n",
       "      <td>MC</td>\n",
       "      <td>7,00 mio. €</td>\n",
       "      <td>Manchester City</td>\n",
       "      <td>Angleterre</td>\n",
       "      <td>Fin du prêt31 mai 2024</td>\n",
       "      <td>NaN</td>\n",
       "      <td>Wolverhampton Wanderers</td>\n",
       "    </tr>\n",
       "    <tr>\n",
       "      <th>625</th>\n",
       "      <td>Boubacar TraoréB. Traoré</td>\n",
       "      <td>21</td>\n",
       "      <td>Mali</td>\n",
       "      <td>Milieu défensif</td>\n",
       "      <td>MDC</td>\n",
       "      <td>5,00 mio. €</td>\n",
       "      <td>FC Metz</td>\n",
       "      <td>France</td>\n",
       "      <td>Fin du prêt30 juin 2023</td>\n",
       "      <td>NaN</td>\n",
       "      <td>Wolverhampton Wanderers</td>\n",
       "    </tr>\n",
       "  </tbody>\n",
       "</table>\n",
       "<p>626 rows × 11 columns</p>\n",
       "</div>"
      ],
      "text/plain": [
       "                                  0   1           2                  3    4  \\\n",
       "0                Declan RiceD. Rice  24  Angleterre    Milieu défensif  MDC   \n",
       "1             Kai HavertzK. Havertz  24   Allemagne    Milieu offensif   MO   \n",
       "2           Jurrien TimberJ. Timber  22    Pays-Bas  Défenseur central   DC   \n",
       "3                 David RayaD. Raya  27     Espagne     Gardien de but  GdB   \n",
       "4    Albert Sambi LokongaA. Lokonga  24    Belgique     Milieu central   MC   \n",
       "..                              ...  ..         ...                ...  ...   \n",
       "621         Ki-Jana HoeverK. Hoever  21    Pays-Bas      Arrière droit  ArD   \n",
       "622              ChiquinhoChiquinho  23    Portugal      Ailier gauche  AiG   \n",
       "623           Matheus CunhaM. Cunha  24      Brésil       Avant-centre   AC   \n",
       "624             Tommy DoyleT. Doyle  22  Angleterre     Milieu central   MC   \n",
       "625        Boubacar TraoréB. Traoré  21        Mali    Milieu défensif  MDC   \n",
       "\n",
       "                 5                   6           7  \\\n",
       "0    100,00 mio. €     West Ham United  Angleterre   \n",
       "1     60,00 mio. €          Chelsea FC  Angleterre   \n",
       "2     42,00 mio. €      Ajax Amsterdam    Pays-Bas   \n",
       "3     32,00 mio. €        FC Brentford  Angleterre   \n",
       "4     15,00 mio. €          Luton Town  Angleterre   \n",
       "..             ...                 ...         ...   \n",
       "621    3,50 mio. €          Stoke City  Angleterre   \n",
       "622    2,00 mio. €          Stoke City  Angleterre   \n",
       "623   28,00 mio. €  Atlético de Madrid     Espagne   \n",
       "624    7,00 mio. €     Manchester City  Angleterre   \n",
       "625    5,00 mio. €             FC Metz      France   \n",
       "\n",
       "                               8 team_acheteur             team vendeur  \n",
       "0                  116,60 mio. €    Arsenal FC                      NaN  \n",
       "1                   75,00 mio. €    Arsenal FC                      NaN  \n",
       "2                   40,00 mio. €    Arsenal FC                      NaN  \n",
       "3    Montant du prêt:3,34 mio. €    Arsenal FC                      NaN  \n",
       "4         Fin du prêt31 mai 2024    Arsenal FC                      NaN  \n",
       "..                           ...           ...                      ...  \n",
       "621                         Prêt           NaN  Wolverhampton Wanderers  \n",
       "622                         Prêt           NaN  Wolverhampton Wanderers  \n",
       "623      Fin du prêt30 juin 2023           NaN  Wolverhampton Wanderers  \n",
       "624       Fin du prêt31 mai 2024           NaN  Wolverhampton Wanderers  \n",
       "625      Fin du prêt30 juin 2023           NaN  Wolverhampton Wanderers  \n",
       "\n",
       "[626 rows x 11 columns]"
      ]
     },
     "execution_count": 122,
     "metadata": {},
     "output_type": "execute_result"
    }
   ],
   "source": [
    "concatenated_df"
   ]
  },
  {
   "cell_type": "markdown",
   "metadata": {},
   "source": [
    "# Renommer les colonnes"
   ]
  },
  {
   "cell_type": "code",
   "execution_count": 127,
   "metadata": {},
   "outputs": [],
   "source": [
    "nouvelles_colonnes = {\n",
    "    0: 'Nom',\n",
    "    1: 'age',\n",
    "    2:'nationnalité',\n",
    "    3:'Position',\n",
    "    4:'res Position',\n",
    "    5:'valeur marchande',\n",
    "    6: 'venant de 1',\n",
    "    7:'venant de 2',\n",
    "    8: 'montant de la transaction',\n",
    "}"
   ]
  },
  {
   "cell_type": "code",
   "execution_count": 128,
   "metadata": {},
   "outputs": [],
   "source": [
    "concatenated_df.rename(columns=nouvelles_colonnes, inplace=True)"
   ]
  },
  {
   "cell_type": "code",
   "execution_count": 129,
   "metadata": {},
   "outputs": [
    {
     "data": {
      "text/html": [
       "<div>\n",
       "<style scoped>\n",
       "    .dataframe tbody tr th:only-of-type {\n",
       "        vertical-align: middle;\n",
       "    }\n",
       "\n",
       "    .dataframe tbody tr th {\n",
       "        vertical-align: top;\n",
       "    }\n",
       "\n",
       "    .dataframe thead th {\n",
       "        text-align: right;\n",
       "    }\n",
       "</style>\n",
       "<table border=\"1\" class=\"dataframe\">\n",
       "  <thead>\n",
       "    <tr style=\"text-align: right;\">\n",
       "      <th></th>\n",
       "      <th>Nom</th>\n",
       "      <th>age</th>\n",
       "      <th>nationnalité</th>\n",
       "      <th>Position</th>\n",
       "      <th>res Position</th>\n",
       "      <th>valeur marchande</th>\n",
       "      <th>venant de 1</th>\n",
       "      <th>venant de 2</th>\n",
       "      <th>montant de la transaction</th>\n",
       "      <th>team_acheteur</th>\n",
       "      <th>team vendeur</th>\n",
       "    </tr>\n",
       "  </thead>\n",
       "  <tbody>\n",
       "    <tr>\n",
       "      <th>0</th>\n",
       "      <td>Declan RiceD. Rice</td>\n",
       "      <td>24</td>\n",
       "      <td>Angleterre</td>\n",
       "      <td>Milieu défensif</td>\n",
       "      <td>MDC</td>\n",
       "      <td>100,00 mio. €</td>\n",
       "      <td>West Ham United</td>\n",
       "      <td>Angleterre</td>\n",
       "      <td>116,60 mio. €</td>\n",
       "      <td>Arsenal FC</td>\n",
       "      <td>NaN</td>\n",
       "    </tr>\n",
       "    <tr>\n",
       "      <th>1</th>\n",
       "      <td>Kai HavertzK. Havertz</td>\n",
       "      <td>24</td>\n",
       "      <td>Allemagne</td>\n",
       "      <td>Milieu offensif</td>\n",
       "      <td>MO</td>\n",
       "      <td>60,00 mio. €</td>\n",
       "      <td>Chelsea FC</td>\n",
       "      <td>Angleterre</td>\n",
       "      <td>75,00 mio. €</td>\n",
       "      <td>Arsenal FC</td>\n",
       "      <td>NaN</td>\n",
       "    </tr>\n",
       "    <tr>\n",
       "      <th>2</th>\n",
       "      <td>Jurrien TimberJ. Timber</td>\n",
       "      <td>22</td>\n",
       "      <td>Pays-Bas</td>\n",
       "      <td>Défenseur central</td>\n",
       "      <td>DC</td>\n",
       "      <td>42,00 mio. €</td>\n",
       "      <td>Ajax Amsterdam</td>\n",
       "      <td>Pays-Bas</td>\n",
       "      <td>40,00 mio. €</td>\n",
       "      <td>Arsenal FC</td>\n",
       "      <td>NaN</td>\n",
       "    </tr>\n",
       "    <tr>\n",
       "      <th>3</th>\n",
       "      <td>David RayaD. Raya</td>\n",
       "      <td>27</td>\n",
       "      <td>Espagne</td>\n",
       "      <td>Gardien de but</td>\n",
       "      <td>GdB</td>\n",
       "      <td>32,00 mio. €</td>\n",
       "      <td>FC Brentford</td>\n",
       "      <td>Angleterre</td>\n",
       "      <td>Montant du prêt:3,34 mio. €</td>\n",
       "      <td>Arsenal FC</td>\n",
       "      <td>NaN</td>\n",
       "    </tr>\n",
       "    <tr>\n",
       "      <th>4</th>\n",
       "      <td>Albert Sambi LokongaA. Lokonga</td>\n",
       "      <td>24</td>\n",
       "      <td>Belgique</td>\n",
       "      <td>Milieu central</td>\n",
       "      <td>MC</td>\n",
       "      <td>15,00 mio. €</td>\n",
       "      <td>Luton Town</td>\n",
       "      <td>Angleterre</td>\n",
       "      <td>Fin du prêt31 mai 2024</td>\n",
       "      <td>Arsenal FC</td>\n",
       "      <td>NaN</td>\n",
       "    </tr>\n",
       "  </tbody>\n",
       "</table>\n",
       "</div>"
      ],
      "text/plain": [
       "                              Nom age nationnalité           Position  \\\n",
       "0              Declan RiceD. Rice  24   Angleterre    Milieu défensif   \n",
       "1           Kai HavertzK. Havertz  24    Allemagne    Milieu offensif   \n",
       "2         Jurrien TimberJ. Timber  22     Pays-Bas  Défenseur central   \n",
       "3               David RayaD. Raya  27      Espagne     Gardien de but   \n",
       "4  Albert Sambi LokongaA. Lokonga  24     Belgique     Milieu central   \n",
       "\n",
       "  res Position valeur marchande      venant de 1 venant de 2  \\\n",
       "0          MDC    100,00 mio. €  West Ham United  Angleterre   \n",
       "1           MO     60,00 mio. €       Chelsea FC  Angleterre   \n",
       "2           DC     42,00 mio. €   Ajax Amsterdam    Pays-Bas   \n",
       "3          GdB     32,00 mio. €     FC Brentford  Angleterre   \n",
       "4           MC     15,00 mio. €       Luton Town  Angleterre   \n",
       "\n",
       "     montant de la transaction team_acheteur team vendeur  \n",
       "0                116,60 mio. €    Arsenal FC          NaN  \n",
       "1                 75,00 mio. €    Arsenal FC          NaN  \n",
       "2                 40,00 mio. €    Arsenal FC          NaN  \n",
       "3  Montant du prêt:3,34 mio. €    Arsenal FC          NaN  \n",
       "4       Fin du prêt31 mai 2024    Arsenal FC          NaN  "
      ]
     },
     "execution_count": 129,
     "metadata": {},
     "output_type": "execute_result"
    }
   ],
   "source": [
    "concatenated_df.head()"
   ]
  }
 ],
 "metadata": {
  "kernelspec": {
   "display_name": "Python 3",
   "language": "python",
   "name": "python3"
  },
  "language_info": {
   "codemirror_mode": {
    "name": "ipython",
    "version": 3
   },
   "file_extension": ".py",
   "mimetype": "text/x-python",
   "name": "python",
   "nbconvert_exporter": "python",
   "pygments_lexer": "ipython3",
   "version": "3.10.4"
  }
 },
 "nbformat": 4,
 "nbformat_minor": 2
}
